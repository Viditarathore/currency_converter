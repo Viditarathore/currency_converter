{
 "cells": [
  {
   "cell_type": "code",
   "execution_count": 4,
   "id": "e8e2a4fb",
   "metadata": {},
   "outputs": [
    {
     "name": "stdout",
     "output_type": "stream",
     "text": [
      "enter the amount : \n",
      "200\n",
      "currencies:\n",
      "Argentine Peso\n",
      "Australian Dollar\n",
      "Bahraini Dinar\n",
      "Botswana Pula\n",
      "Brazilian Real\n",
      "British Pound\n",
      "Bruneian Dollar\n",
      "Bulgarian Lev\n",
      "Canadian Dollar\n",
      "Chilean Peso\n",
      "Chinese Yuan Renminbi\n",
      "Colombian Peso\n",
      "Czech Koruna\n",
      "Danish Krone\n",
      "Emirati Dirham\n",
      "Euro\n",
      "Hong Kong Dollar\n",
      "Hungarian Forint\n",
      "Icelandic Krona\n",
      "Indonesian Rupiah\n",
      "Iranian Rial\n",
      "Israeli Shekel\n",
      "Japanese Yen\n",
      "Kazakhstani Tenge\n",
      "Kuwaiti Dinar\n",
      "Libyan Dinar\n",
      "Malaysian Ringgit\n",
      "Mauritian Rupee\n",
      "Mexican Peso\n",
      "Nepalese Rupee\n",
      "New Zealand Dollar\n",
      "Norwegian Krone\n",
      "Omani Rial\n",
      "Pakistani Rupee\n",
      "Philippine Peso\n",
      "Polish Zloty\n",
      "Qatari Riyal\n",
      "Romanian New Leu\n",
      "Russian Ruble\n",
      "Saudi Arabian Riyal\n",
      "Singapore Dollar\n",
      "South African Rand\n",
      "South Korean Won\n",
      "Sri Lankan Rupee\n",
      "Swedish Krona\n",
      "Swiss Franc\n",
      "Taiwan New Dollar\n",
      "Thai Baht\n",
      "Trinidadian Dollar\n",
      "Turkish Lira\n",
      "US Dollar\n",
      "Venezuelan Bolivar\n",
      "currency is : \n",
      "Kuwaiti Dinar\n",
      "200 in INR is 0.7478 Kuwaiti Dinar\n"
     ]
    }
   ],
   "source": [
    "path=\"C:/Users/DELL/Documents/technoheck/currency_converter.txt\"\n",
    "with open(path) as f:\n",
    " lines= f.readlines()\n",
    "\n",
    "\n",
    "currency_dict = {}\n",
    "for line in lines:\n",
    "  value=line.split(\"\\t\")\n",
    "  currency_dict[value[0]] = value[1]\n",
    "    \n",
    "\n",
    "amount =int(input(\"enter the amount : \\n\"))\n",
    "print(\"currencies:\",)\n",
    "[print(item) for item in currency_dict.keys()]\n",
    "currency =input(\"currency is : \\n\") \n",
    "print(f\"{amount} in INR is {float(currency_dict[currency]) * amount} {currency}\")\n"
   ]
  }
 ],
 "metadata": {
  "kernelspec": {
   "display_name": "Python 3 (ipykernel)",
   "language": "python",
   "name": "python3"
  },
  "language_info": {
   "codemirror_mode": {
    "name": "ipython",
    "version": 3
   },
   "file_extension": ".py",
   "mimetype": "text/x-python",
   "name": "python",
   "nbconvert_exporter": "python",
   "pygments_lexer": "ipython3",
   "version": "3.11.3"
  }
 },
 "nbformat": 4,
 "nbformat_minor": 5
}
